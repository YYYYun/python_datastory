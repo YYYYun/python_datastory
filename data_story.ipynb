{
 "cells": [
  {
   "cell_type": "code",
   "execution_count": 26,
   "id": "09c79db9-4395-4f80-be87-17104b70ce05",
   "metadata": {},
   "outputs": [],
   "source": [
    "import csv, time\n",
    "import pandas as pd\n",
    "import altair as alt"
   ]
  },
  {
   "cell_type": "code",
   "execution_count": 207,
   "id": "beea432d-a62a-4dbe-a35c-4cb8e97e69d2",
   "metadata": {},
   "outputs": [],
   "source": [
    "df = pd.read_csv('ds_salaries.csv')"
   ]
  },
  {
   "cell_type": "markdown",
   "id": "a36add67-8ed5-4cd5-93c0-022a07e04fc4",
   "metadata": {},
   "source": [
    "The dataset comes from Kaggle: https://www.kaggle.com/datasets/arnabchaki/data-science-salaries-2023"
   ]
  },
  {
   "cell_type": "markdown",
   "id": "6d9ecf0f-37b3-46ba-8992-5baf16f32085",
   "metadata": {},
   "source": [
    "Data Science Job Salaries Dataset contains 11 columns, each are:\n",
    "\n",
    "work_year: The year the salary was paid.   \n",
    "experience_level: The experience level in the job during the year    \n",
    "employment_type: The type of employment for the role    \n",
    "job_title: The role worked in during the year.    \n",
    "salary: The total gross salary amount paid.    \n",
    "salary_currency: The currency of the salary paid as an ISO 4217 currency code.    \n",
    "salaryinusd: The salary in USD    \n",
    "employee_residence: Employee's primary country of residence in during the work year as an ISO 3166 country code.    \n",
    "remote_ratio: The overall amount of work done remotely    \n",
    "company_location: The country of the employer's main office or contracting branch    \n",
    "company_size: The median number of people that worked for the company during the year    "
   ]
  },
  {
   "cell_type": "code",
   "execution_count": 4,
   "id": "113ff9f0-5d8c-41f7-83d8-a9f7cc72f60b",
   "metadata": {},
   "outputs": [
    {
     "name": "stdout",
     "output_type": "stream",
     "text": [
      "<class 'pandas.core.frame.DataFrame'>\n",
      "RangeIndex: 3755 entries, 0 to 3754\n",
      "Data columns (total 11 columns):\n",
      " #   Column              Non-Null Count  Dtype \n",
      "---  ------              --------------  ----- \n",
      " 0   work_year           3755 non-null   int64 \n",
      " 1   experience_level    3755 non-null   object\n",
      " 2   employment_type     3755 non-null   object\n",
      " 3   job_title           3755 non-null   object\n",
      " 4   salary              3755 non-null   int64 \n",
      " 5   salary_currency     3755 non-null   object\n",
      " 6   salary_in_usd       3755 non-null   int64 \n",
      " 7   employee_residence  3755 non-null   object\n",
      " 8   remote_ratio        3755 non-null   int64 \n",
      " 9   company_location    3755 non-null   object\n",
      " 10  company_size        3755 non-null   object\n",
      "dtypes: int64(4), object(7)\n",
      "memory usage: 322.8+ KB\n"
     ]
    }
   ],
   "source": [
    "df.info()"
   ]
  },
  {
   "cell_type": "markdown",
   "id": "776f5d38-8c2d-4293-9dc8-bc10a034b001",
   "metadata": {},
   "source": [
    "### 1. The Top 20 full-time job titles in the field of data science"
   ]
  },
  {
   "cell_type": "code",
   "execution_count": 209,
   "id": "9576a165-1505-4c62-9451-4517ff2f256a",
   "metadata": {},
   "outputs": [
    {
     "data": {
      "text/plain": [
       "3718"
      ]
     },
     "execution_count": 209,
     "metadata": {},
     "output_type": "execute_result"
    }
   ],
   "source": [
    "# Filter all the full-time positions\n",
    "full_time = df[df['employment_type'] == 'FT']\n",
    "len(full_time)"
   ]
  },
  {
   "cell_type": "code",
   "execution_count": 16,
   "id": "eb93e8e4-c471-4e8d-a1f2-bbede07cdd16",
   "metadata": {},
   "outputs": [],
   "source": [
    "# Group by different job titles and get the count\n",
    "job = full_time.groupby('job_title').size().reset_index()"
   ]
  },
  {
   "cell_type": "code",
   "execution_count": 20,
   "id": "94946644-e4c7-4353-81f7-7df53a6b5d61",
   "metadata": {},
   "outputs": [],
   "source": [
    "job.rename(columns={'job_title': 'Job Title', 0: 'Count'}, inplace = True)"
   ]
  },
  {
   "cell_type": "code",
   "execution_count": 23,
   "id": "0377f556-7a08-45ab-b03b-ac4aba9e3e1d",
   "metadata": {},
   "outputs": [],
   "source": [
    "# Find out the Top 20 job titles in data science\n",
    "top20 = job.sort_values('Count', ascending=False).head(20)"
   ]
  },
  {
   "cell_type": "code",
   "execution_count": null,
   "id": "62ad0d66-acee-4611-8113-d787ec46ad11",
   "metadata": {},
   "outputs": [
    {
     "data": {
      "text/html": [
       "<div>\n",
       "<style scoped>\n",
       "    .dataframe tbody tr th:only-of-type {\n",
       "        vertical-align: middle;\n",
       "    }\n",
       "\n",
       "    .dataframe tbody tr th {\n",
       "        vertical-align: top;\n",
       "    }\n",
       "\n",
       "    .dataframe thead th {\n",
       "        text-align: right;\n",
       "    }\n",
       "</style>\n",
       "<table border=\"1\" class=\"dataframe\">\n",
       "  <thead>\n",
       "    <tr style=\"text-align: right;\">\n",
       "      <th></th>\n",
       "      <th>Job Title</th>\n",
       "      <th>Count</th>\n",
       "    </tr>\n",
       "  </thead>\n",
       "  <tbody>\n",
       "    <tr>\n",
       "      <th>33</th>\n",
       "      <td>Data Engineer</td>\n",
       "      <td>1037</td>\n",
       "    </tr>\n",
       "    <tr>\n",
       "      <th>47</th>\n",
       "      <td>Data Scientist</td>\n",
       "      <td>836</td>\n",
       "    </tr>\n",
       "    <tr>\n",
       "      <th>25</th>\n",
       "      <td>Data Analyst</td>\n",
       "      <td>606</td>\n",
       "    </tr>\n",
       "    <tr>\n",
       "      <th>69</th>\n",
       "      <td>Machine Learning Engineer</td>\n",
       "      <td>288</td>\n",
       "    </tr>\n",
       "    <tr>\n",
       "      <th>4</th>\n",
       "      <td>Analytics Engineer</td>\n",
       "      <td>102</td>\n",
       "    </tr>\n",
       "    <tr>\n",
       "      <th>31</th>\n",
       "      <td>Data Architect</td>\n",
       "      <td>101</td>\n",
       "    </tr>\n",
       "    <tr>\n",
       "      <th>89</th>\n",
       "      <td>Research Scientist</td>\n",
       "      <td>82</td>\n",
       "    </tr>\n",
       "    <tr>\n",
       "      <th>45</th>\n",
       "      <td>Data Science Manager</td>\n",
       "      <td>58</td>\n",
       "    </tr>\n",
       "    <tr>\n",
       "      <th>8</th>\n",
       "      <td>Applied Scientist</td>\n",
       "      <td>58</td>\n",
       "    </tr>\n",
       "    <tr>\n",
       "      <th>88</th>\n",
       "      <td>Research Engineer</td>\n",
       "      <td>37</td>\n",
       "    </tr>\n",
       "    <tr>\n",
       "      <th>66</th>\n",
       "      <td>ML Engineer</td>\n",
       "      <td>30</td>\n",
       "    </tr>\n",
       "    <tr>\n",
       "      <th>37</th>\n",
       "      <td>Data Manager</td>\n",
       "      <td>29</td>\n",
       "    </tr>\n",
       "    <tr>\n",
       "      <th>74</th>\n",
       "      <td>Machine Learning Scientist</td>\n",
       "      <td>25</td>\n",
       "    </tr>\n",
       "    <tr>\n",
       "      <th>42</th>\n",
       "      <td>Data Science Consultant</td>\n",
       "      <td>24</td>\n",
       "    </tr>\n",
       "    <tr>\n",
       "      <th>29</th>\n",
       "      <td>Data Analytics Manager</td>\n",
       "      <td>22</td>\n",
       "    </tr>\n",
       "    <tr>\n",
       "      <th>23</th>\n",
       "      <td>Computer Vision Engineer</td>\n",
       "      <td>16</td>\n",
       "    </tr>\n",
       "    <tr>\n",
       "      <th>12</th>\n",
       "      <td>BI Data Analyst</td>\n",
       "      <td>15</td>\n",
       "    </tr>\n",
       "    <tr>\n",
       "      <th>49</th>\n",
       "      <td>Data Specialist</td>\n",
       "      <td>14</td>\n",
       "    </tr>\n",
       "    <tr>\n",
       "      <th>17</th>\n",
       "      <td>Business Data Analyst</td>\n",
       "      <td>14</td>\n",
       "    </tr>\n",
       "    <tr>\n",
       "      <th>3</th>\n",
       "      <td>AI Scientist</td>\n",
       "      <td>14</td>\n",
       "    </tr>\n",
       "  </tbody>\n",
       "</table>\n",
       "</div>"
      ],
      "text/plain": [
       "                     Job Title  Count\n",
       "33               Data Engineer   1037\n",
       "47              Data Scientist    836\n",
       "25                Data Analyst    606\n",
       "69   Machine Learning Engineer    288\n",
       "4           Analytics Engineer    102\n",
       "31              Data Architect    101\n",
       "89          Research Scientist     82\n",
       "45        Data Science Manager     58\n",
       "8            Applied Scientist     58\n",
       "88           Research Engineer     37\n",
       "66                 ML Engineer     30\n",
       "37                Data Manager     29\n",
       "74  Machine Learning Scientist     25\n",
       "42     Data Science Consultant     24\n",
       "29      Data Analytics Manager     22\n",
       "23    Computer Vision Engineer     16\n",
       "12             BI Data Analyst     15\n",
       "49             Data Specialist     14\n",
       "17       Business Data Analyst     14\n",
       "3                 AI Scientist     14"
      ]
     },
     "execution_count": 24,
     "metadata": {},
     "output_type": "execute_result"
    }
   ],
   "source": [
    "top20"
   ]
  },
  {
   "cell_type": "code",
   "execution_count": 30,
   "id": "160ed9d1-cb2a-4e06-bcdb-50cca763a3d4",
   "metadata": {},
   "outputs": [
    {
     "data": {
      "text/html": [
       "\n",
       "<div id=\"altair-viz-d116dc13157e48acaba44bb2390e3a6f\"></div>\n",
       "<script type=\"text/javascript\">\n",
       "  var VEGA_DEBUG = (typeof VEGA_DEBUG == \"undefined\") ? {} : VEGA_DEBUG;\n",
       "  (function(spec, embedOpt){\n",
       "    let outputDiv = document.currentScript.previousElementSibling;\n",
       "    if (outputDiv.id !== \"altair-viz-d116dc13157e48acaba44bb2390e3a6f\") {\n",
       "      outputDiv = document.getElementById(\"altair-viz-d116dc13157e48acaba44bb2390e3a6f\");\n",
       "    }\n",
       "    const paths = {\n",
       "      \"vega\": \"https://cdn.jsdelivr.net/npm//vega@5?noext\",\n",
       "      \"vega-lib\": \"https://cdn.jsdelivr.net/npm//vega-lib?noext\",\n",
       "      \"vega-lite\": \"https://cdn.jsdelivr.net/npm//vega-lite@4.17.0?noext\",\n",
       "      \"vega-embed\": \"https://cdn.jsdelivr.net/npm//vega-embed@6?noext\",\n",
       "    };\n",
       "\n",
       "    function maybeLoadScript(lib, version) {\n",
       "      var key = `${lib.replace(\"-\", \"\")}_version`;\n",
       "      return (VEGA_DEBUG[key] == version) ?\n",
       "        Promise.resolve(paths[lib]) :\n",
       "        new Promise(function(resolve, reject) {\n",
       "          var s = document.createElement('script');\n",
       "          document.getElementsByTagName(\"head\")[0].appendChild(s);\n",
       "          s.async = true;\n",
       "          s.onload = () => {\n",
       "            VEGA_DEBUG[key] = version;\n",
       "            return resolve(paths[lib]);\n",
       "          };\n",
       "          s.onerror = () => reject(`Error loading script: ${paths[lib]}`);\n",
       "          s.src = paths[lib];\n",
       "        });\n",
       "    }\n",
       "\n",
       "    function showError(err) {\n",
       "      outputDiv.innerHTML = `<div class=\"error\" style=\"color:red;\">${err}</div>`;\n",
       "      throw err;\n",
       "    }\n",
       "\n",
       "    function displayChart(vegaEmbed) {\n",
       "      vegaEmbed(outputDiv, spec, embedOpt)\n",
       "        .catch(err => showError(`Javascript Error: ${err.message}<br>This usually means there's a typo in your chart specification. See the javascript console for the full traceback.`));\n",
       "    }\n",
       "\n",
       "    if(typeof define === \"function\" && define.amd) {\n",
       "      requirejs.config({paths});\n",
       "      require([\"vega-embed\"], displayChart, err => showError(`Error loading script: ${err.message}`));\n",
       "    } else {\n",
       "      maybeLoadScript(\"vega\", \"5\")\n",
       "        .then(() => maybeLoadScript(\"vega-lite\", \"4.17.0\"))\n",
       "        .then(() => maybeLoadScript(\"vega-embed\", \"6\"))\n",
       "        .catch(showError)\n",
       "        .then(() => displayChart(vegaEmbed));\n",
       "    }\n",
       "  })({\"config\": {\"view\": {\"continuousWidth\": 400, \"continuousHeight\": 300}}, \"data\": {\"name\": \"data-8517191748a765f4542cc7d0f5400adc\"}, \"mark\": {\"type\": \"bar\", \"color\": \"purple\"}, \"encoding\": {\"tooltip\": {\"field\": \"Count\", \"type\": \"quantitative\"}, \"x\": {\"axis\": {\"labelAngle\": -45}, \"field\": \"Job Title\", \"sort\": \"-y\", \"title\": \"Job Titles\", \"type\": \"nominal\"}, \"y\": {\"field\": \"Count\", \"title\": \"Count\", \"type\": \"quantitative\"}}, \"height\": 300, \"title\": \"Top 20 full-time job titles in data science\", \"width\": 600, \"$schema\": \"https://vega.github.io/schema/vega-lite/v4.17.0.json\", \"datasets\": {\"data-8517191748a765f4542cc7d0f5400adc\": [{\"Job Title\": \"Data Engineer\", \"Count\": 1037}, {\"Job Title\": \"Data Scientist\", \"Count\": 836}, {\"Job Title\": \"Data Analyst\", \"Count\": 606}, {\"Job Title\": \"Machine Learning Engineer\", \"Count\": 288}, {\"Job Title\": \"Analytics Engineer\", \"Count\": 102}, {\"Job Title\": \"Data Architect\", \"Count\": 101}, {\"Job Title\": \"Research Scientist\", \"Count\": 82}, {\"Job Title\": \"Data Science Manager\", \"Count\": 58}, {\"Job Title\": \"Applied Scientist\", \"Count\": 58}, {\"Job Title\": \"Research Engineer\", \"Count\": 37}, {\"Job Title\": \"ML Engineer\", \"Count\": 30}, {\"Job Title\": \"Data Manager\", \"Count\": 29}, {\"Job Title\": \"Machine Learning Scientist\", \"Count\": 25}, {\"Job Title\": \"Data Science Consultant\", \"Count\": 24}, {\"Job Title\": \"Data Analytics Manager\", \"Count\": 22}, {\"Job Title\": \"Computer Vision Engineer\", \"Count\": 16}, {\"Job Title\": \"BI Data Analyst\", \"Count\": 15}, {\"Job Title\": \"Data Specialist\", \"Count\": 14}, {\"Job Title\": \"Business Data Analyst\", \"Count\": 14}, {\"Job Title\": \"AI Scientist\", \"Count\": 14}]}}, {\"mode\": \"vega-lite\"});\n",
       "</script>"
      ],
      "text/plain": [
       "alt.Chart(...)"
      ]
     },
     "execution_count": 30,
     "metadata": {},
     "output_type": "execute_result"
    }
   ],
   "source": [
    "# Create a bar chart for the Top 20 full-time job titles in data science\n",
    "alt.Chart(top20, title = 'Top 20 full-time job titles in data science').mark_bar(color = 'purple').encode(\n",
    "    x = alt.X('Job Title:N', title = 'Job Titles', sort = '-y', axis=alt.Axis(labelAngle=-45)),\n",
    "    y = alt.Y('Count', title = 'Count'),\n",
    "    tooltip = 'Count'\n",
    ").properties(width = 600, height = 300)"
   ]
  },
  {
   "cell_type": "markdown",
   "id": "7aa966d0-1e80-4f79-94d1-833b027466d5",
   "metadata": {},
   "source": [
    "### 2. The top10 data science full-time and entry-level job titles with the highest salaries in average"
   ]
  },
  {
   "cell_type": "code",
   "execution_count": 41,
   "id": "cdc065aa-e404-4bd4-9d69-204052b2c927",
   "metadata": {},
   "outputs": [],
   "source": [
    "entry_level = full_time[full_time['experience_level'] == 'EN']"
   ]
  },
  {
   "cell_type": "code",
   "execution_count": 214,
   "id": "9cbf72e2-dfba-4065-b94e-9b8ce5b0f04e",
   "metadata": {},
   "outputs": [
    {
     "data": {
      "text/plain": [
       "71953.5"
      ]
     },
     "execution_count": 214,
     "metadata": {},
     "output_type": "execute_result"
    }
   ],
   "source": [
    "entry_level['salary_in_usd'].median()"
   ]
  },
  {
   "cell_type": "code",
   "execution_count": null,
   "id": "158070f8-4e33-40e8-bc5f-7b21ed4855ef",
   "metadata": {},
   "outputs": [],
   "source": []
  },
  {
   "cell_type": "code",
   "execution_count": 210,
   "id": "1fa2f631-56db-4cc9-bda8-30c1e51a8087",
   "metadata": {},
   "outputs": [],
   "source": [
    "job_salary = entry_level.groupby('job_title')['salary_in_usd'].median().reset_index()"
   ]
  },
  {
   "cell_type": "code",
   "execution_count": 46,
   "id": "b5843103-1999-4cea-8fd0-9b22ab05d3db",
   "metadata": {},
   "outputs": [],
   "source": [
    "top20_salary = job_salary.sort_values('salary_in_usd', ascending=False).head(20)"
   ]
  },
  {
   "cell_type": "code",
   "execution_count": 211,
   "id": "fe9bca11-57fe-4080-8fe7-cea380369ee5",
   "metadata": {},
   "outputs": [
    {
     "data": {
      "text/html": [
       "<div>\n",
       "<style scoped>\n",
       "    .dataframe tbody tr th:only-of-type {\n",
       "        vertical-align: middle;\n",
       "    }\n",
       "\n",
       "    .dataframe tbody tr th {\n",
       "        vertical-align: top;\n",
       "    }\n",
       "\n",
       "    .dataframe thead th {\n",
       "        text-align: right;\n",
       "    }\n",
       "</style>\n",
       "<table border=\"1\" class=\"dataframe\">\n",
       "  <thead>\n",
       "    <tr style=\"text-align: right;\">\n",
       "      <th></th>\n",
       "      <th>job_title</th>\n",
       "      <th>salary_in_usd</th>\n",
       "    </tr>\n",
       "  </thead>\n",
       "  <tbody>\n",
       "    <tr>\n",
       "      <th>7</th>\n",
       "      <td>Applied Scientist</td>\n",
       "      <td>167356.666667</td>\n",
       "    </tr>\n",
       "    <tr>\n",
       "      <th>26</th>\n",
       "      <td>Deep Learning Engineer</td>\n",
       "      <td>135000.000000</td>\n",
       "    </tr>\n",
       "    <tr>\n",
       "      <th>1</th>\n",
       "      <td>AI Developer</td>\n",
       "      <td>130884.500000</td>\n",
       "    </tr>\n",
       "    <tr>\n",
       "      <th>4</th>\n",
       "      <td>Analytics Engineer</td>\n",
       "      <td>130000.000000</td>\n",
       "    </tr>\n",
       "    <tr>\n",
       "      <th>12</th>\n",
       "      <td>BI Developer</td>\n",
       "      <td>130000.000000</td>\n",
       "    </tr>\n",
       "    <tr>\n",
       "      <th>37</th>\n",
       "      <td>Research Engineer</td>\n",
       "      <td>130000.000000</td>\n",
       "    </tr>\n",
       "    <tr>\n",
       "      <th>32</th>\n",
       "      <td>Machine Learning Scientist</td>\n",
       "      <td>129836.000000</td>\n",
       "    </tr>\n",
       "    <tr>\n",
       "      <th>16</th>\n",
       "      <td>Computer Vision Engineer</td>\n",
       "      <td>118333.333333</td>\n",
       "    </tr>\n",
       "    <tr>\n",
       "      <th>38</th>\n",
       "      <td>Research Scientist</td>\n",
       "      <td>118280.888889</td>\n",
       "    </tr>\n",
       "    <tr>\n",
       "      <th>17</th>\n",
       "      <td>Computer Vision Software Engineer</td>\n",
       "      <td>110000.000000</td>\n",
       "    </tr>\n",
       "    <tr>\n",
       "      <th>25</th>\n",
       "      <td>Data Specialist</td>\n",
       "      <td>105000.000000</td>\n",
       "    </tr>\n",
       "    <tr>\n",
       "      <th>36</th>\n",
       "      <td>Product Data Analyst</td>\n",
       "      <td>100000.000000</td>\n",
       "    </tr>\n",
       "    <tr>\n",
       "      <th>22</th>\n",
       "      <td>Data Quality Analyst</td>\n",
       "      <td>100000.000000</td>\n",
       "    </tr>\n",
       "    <tr>\n",
       "      <th>27</th>\n",
       "      <td>Financial Data Analyst</td>\n",
       "      <td>100000.000000</td>\n",
       "    </tr>\n",
       "    <tr>\n",
       "      <th>30</th>\n",
       "      <td>Machine Learning Engineer</td>\n",
       "      <td>93989.350000</td>\n",
       "    </tr>\n",
       "    <tr>\n",
       "      <th>20</th>\n",
       "      <td>Data Engineer</td>\n",
       "      <td>91526.742424</td>\n",
       "    </tr>\n",
       "    <tr>\n",
       "      <th>9</th>\n",
       "      <td>BI Analyst</td>\n",
       "      <td>76000.000000</td>\n",
       "    </tr>\n",
       "    <tr>\n",
       "      <th>24</th>\n",
       "      <td>Data Scientist</td>\n",
       "      <td>73917.910714</td>\n",
       "    </tr>\n",
       "    <tr>\n",
       "      <th>29</th>\n",
       "      <td>Machine Learning Developer</td>\n",
       "      <td>73600.000000</td>\n",
       "    </tr>\n",
       "    <tr>\n",
       "      <th>3</th>\n",
       "      <td>AI Scientist</td>\n",
       "      <td>69093.800000</td>\n",
       "    </tr>\n",
       "  </tbody>\n",
       "</table>\n",
       "</div>"
      ],
      "text/plain": [
       "                            job_title  salary_in_usd\n",
       "7                   Applied Scientist  167356.666667\n",
       "26             Deep Learning Engineer  135000.000000\n",
       "1                        AI Developer  130884.500000\n",
       "4                  Analytics Engineer  130000.000000\n",
       "12                       BI Developer  130000.000000\n",
       "37                  Research Engineer  130000.000000\n",
       "32         Machine Learning Scientist  129836.000000\n",
       "16           Computer Vision Engineer  118333.333333\n",
       "38                 Research Scientist  118280.888889\n",
       "17  Computer Vision Software Engineer  110000.000000\n",
       "25                    Data Specialist  105000.000000\n",
       "36               Product Data Analyst  100000.000000\n",
       "22               Data Quality Analyst  100000.000000\n",
       "27             Financial Data Analyst  100000.000000\n",
       "30          Machine Learning Engineer   93989.350000\n",
       "20                      Data Engineer   91526.742424\n",
       "9                          BI Analyst   76000.000000\n",
       "24                     Data Scientist   73917.910714\n",
       "29         Machine Learning Developer   73600.000000\n",
       "3                        AI Scientist   69093.800000"
      ]
     },
     "execution_count": 211,
     "metadata": {},
     "output_type": "execute_result"
    }
   ],
   "source": [
    "top20_salary"
   ]
  },
  {
   "cell_type": "code",
   "execution_count": null,
   "id": "7e75014b-44b1-48f2-99cc-d46f6e75e548",
   "metadata": {},
   "outputs": [],
   "source": []
  },
  {
   "cell_type": "code",
   "execution_count": 213,
   "id": "f484653e-3149-48e1-a491-0ee0b7d3d5cc",
   "metadata": {},
   "outputs": [
    {
     "data": {
      "text/html": [
       "\n",
       "<div id=\"altair-viz-c4eb46c3deb84bf1ab3c5e16491ee651\"></div>\n",
       "<script type=\"text/javascript\">\n",
       "  var VEGA_DEBUG = (typeof VEGA_DEBUG == \"undefined\") ? {} : VEGA_DEBUG;\n",
       "  (function(spec, embedOpt){\n",
       "    let outputDiv = document.currentScript.previousElementSibling;\n",
       "    if (outputDiv.id !== \"altair-viz-c4eb46c3deb84bf1ab3c5e16491ee651\") {\n",
       "      outputDiv = document.getElementById(\"altair-viz-c4eb46c3deb84bf1ab3c5e16491ee651\");\n",
       "    }\n",
       "    const paths = {\n",
       "      \"vega\": \"https://cdn.jsdelivr.net/npm//vega@5?noext\",\n",
       "      \"vega-lib\": \"https://cdn.jsdelivr.net/npm//vega-lib?noext\",\n",
       "      \"vega-lite\": \"https://cdn.jsdelivr.net/npm//vega-lite@4.17.0?noext\",\n",
       "      \"vega-embed\": \"https://cdn.jsdelivr.net/npm//vega-embed@6?noext\",\n",
       "    };\n",
       "\n",
       "    function maybeLoadScript(lib, version) {\n",
       "      var key = `${lib.replace(\"-\", \"\")}_version`;\n",
       "      return (VEGA_DEBUG[key] == version) ?\n",
       "        Promise.resolve(paths[lib]) :\n",
       "        new Promise(function(resolve, reject) {\n",
       "          var s = document.createElement('script');\n",
       "          document.getElementsByTagName(\"head\")[0].appendChild(s);\n",
       "          s.async = true;\n",
       "          s.onload = () => {\n",
       "            VEGA_DEBUG[key] = version;\n",
       "            return resolve(paths[lib]);\n",
       "          };\n",
       "          s.onerror = () => reject(`Error loading script: ${paths[lib]}`);\n",
       "          s.src = paths[lib];\n",
       "        });\n",
       "    }\n",
       "\n",
       "    function showError(err) {\n",
       "      outputDiv.innerHTML = `<div class=\"error\" style=\"color:red;\">${err}</div>`;\n",
       "      throw err;\n",
       "    }\n",
       "\n",
       "    function displayChart(vegaEmbed) {\n",
       "      vegaEmbed(outputDiv, spec, embedOpt)\n",
       "        .catch(err => showError(`Javascript Error: ${err.message}<br>This usually means there's a typo in your chart specification. See the javascript console for the full traceback.`));\n",
       "    }\n",
       "\n",
       "    if(typeof define === \"function\" && define.amd) {\n",
       "      requirejs.config({paths});\n",
       "      require([\"vega-embed\"], displayChart, err => showError(`Error loading script: ${err.message}`));\n",
       "    } else {\n",
       "      maybeLoadScript(\"vega\", \"5\")\n",
       "        .then(() => maybeLoadScript(\"vega-lite\", \"4.17.0\"))\n",
       "        .then(() => maybeLoadScript(\"vega-embed\", \"6\"))\n",
       "        .catch(showError)\n",
       "        .then(() => displayChart(vegaEmbed));\n",
       "    }\n",
       "  })({\"config\": {\"view\": {\"continuousWidth\": 400, \"continuousHeight\": 300}}, \"data\": {\"name\": \"data-a3ed4cf13185368f3d880512ceb9f11e\"}, \"mark\": {\"type\": \"bar\", \"color\": \"grey\"}, \"encoding\": {\"tooltip\": {\"field\": \"salary_in_usd\", \"type\": \"quantitative\"}, \"x\": {\"axis\": {\"labelAngle\": -45}, \"field\": \"job_title\", \"sort\": \"-y\", \"title\": \"Job Titles\", \"type\": \"nominal\"}, \"y\": {\"field\": \"salary_in_usd\", \"title\": \"Annual Pay(USD)\", \"type\": \"quantitative\"}}, \"height\": 300, \"title\": \"Top 20 full-time & entry-level job titles in data science with the highest salaries\", \"width\": 600, \"$schema\": \"https://vega.github.io/schema/vega-lite/v4.17.0.json\", \"datasets\": {\"data-a3ed4cf13185368f3d880512ceb9f11e\": [{\"job_title\": \"Applied Scientist\", \"salary_in_usd\": 167356.66666666666}, {\"job_title\": \"Deep Learning Engineer\", \"salary_in_usd\": 135000.0}, {\"job_title\": \"AI Developer\", \"salary_in_usd\": 130884.5}, {\"job_title\": \"Analytics Engineer\", \"salary_in_usd\": 130000.0}, {\"job_title\": \"BI Developer\", \"salary_in_usd\": 130000.0}, {\"job_title\": \"Research Engineer\", \"salary_in_usd\": 130000.0}, {\"job_title\": \"Machine Learning Scientist\", \"salary_in_usd\": 129836.0}, {\"job_title\": \"Computer Vision Engineer\", \"salary_in_usd\": 118333.33333333333}, {\"job_title\": \"Research Scientist\", \"salary_in_usd\": 118280.88888888889}, {\"job_title\": \"Computer Vision Software Engineer\", \"salary_in_usd\": 110000.0}, {\"job_title\": \"Data Specialist\", \"salary_in_usd\": 105000.0}, {\"job_title\": \"Product Data Analyst\", \"salary_in_usd\": 100000.0}, {\"job_title\": \"Data Quality Analyst\", \"salary_in_usd\": 100000.0}, {\"job_title\": \"Financial Data Analyst\", \"salary_in_usd\": 100000.0}, {\"job_title\": \"Machine Learning Engineer\", \"salary_in_usd\": 93989.35}, {\"job_title\": \"Data Engineer\", \"salary_in_usd\": 91526.74242424243}, {\"job_title\": \"BI Analyst\", \"salary_in_usd\": 76000.0}, {\"job_title\": \"Data Scientist\", \"salary_in_usd\": 73917.91071428571}, {\"job_title\": \"Machine Learning Developer\", \"salary_in_usd\": 73600.0}, {\"job_title\": \"AI Scientist\", \"salary_in_usd\": 69093.8}]}}, {\"mode\": \"vega-lite\"});\n",
       "</script>"
      ],
      "text/plain": [
       "alt.Chart(...)"
      ]
     },
     "execution_count": 213,
     "metadata": {},
     "output_type": "execute_result"
    }
   ],
   "source": [
    "# Create a bar chart for the Top 20 full-time & entry-level job titles with the highest salaries\n",
    "basechart2 = alt.Chart(top20_salary, title = 'Top 20 full-time & entry-level job titles in data science with the highest salaries').mark_bar(color = 'grey').encode(\n",
    "    x = alt.X('job_title:N', title = 'Job Titles', sort = '-y', axis=alt.Axis(labelAngle=-45)),\n",
    "    y = alt.Y('salary_in_usd:Q', title = 'Annual Pay(USD)'),\n",
    "    tooltip = 'salary_in_usd'\n",
    ").properties(width = 600, height = 300)\n",
    "\n",
    "basechart2"
   ]
  },
  {
   "cell_type": "code",
   "execution_count": null,
   "id": "b9badfc6-23f2-4214-8e62-bbe6682e4345",
   "metadata": {},
   "outputs": [],
   "source": []
  },
  {
   "cell_type": "code",
   "execution_count": null,
   "id": "3724a53d-910a-4955-80ba-dd9d25d1475c",
   "metadata": {},
   "outputs": [],
   "source": []
  },
  {
   "cell_type": "markdown",
   "id": "c0e5b3d6-b729-4805-afb1-c6adcda6076d",
   "metadata": {},
   "source": [
    "### 3. The change in full-time & entry-level annual salaries from 2020 to 2023"
   ]
  },
  {
   "cell_type": "code",
   "execution_count": 59,
   "id": "defb672a-a2db-4d43-9196-8c6a28b0fa19",
   "metadata": {},
   "outputs": [],
   "source": [
    "salary_3years = entry_level.groupby('work_year')['salary_in_usd'].agg(['min', 'max', 'median','mean'])"
   ]
  },
  {
   "cell_type": "code",
   "execution_count": 110,
   "id": "02b273b9-4f5a-4650-a286-5038e97c89bc",
   "metadata": {},
   "outputs": [],
   "source": [
    "salary_change = pd.DataFrame(salary_3years, columns = ['Work Year', 'min', 'max', 'median','mean'])"
   ]
  },
  {
   "cell_type": "code",
   "execution_count": 107,
   "id": "6a2a603c-4ab0-4fe5-b5b3-cb83f7d773e9",
   "metadata": {},
   "outputs": [],
   "source": [
    "#salary_change['median_float'] = salary_change['median'].astype(float)"
   ]
  },
  {
   "cell_type": "code",
   "execution_count": 111,
   "id": "6e4d108c-b6cf-4f81-953c-71a3119e56e0",
   "metadata": {},
   "outputs": [],
   "source": [
    "salary_change['Work Year'] = ['2020','2021','2022','2023']"
   ]
  },
  {
   "cell_type": "code",
   "execution_count": 112,
   "id": "11c1e0e3-681e-4da9-b797-ec5533516870",
   "metadata": {},
   "outputs": [
    {
     "data": {
      "text/html": [
       "<div>\n",
       "<style scoped>\n",
       "    .dataframe tbody tr th:only-of-type {\n",
       "        vertical-align: middle;\n",
       "    }\n",
       "\n",
       "    .dataframe tbody tr th {\n",
       "        vertical-align: top;\n",
       "    }\n",
       "\n",
       "    .dataframe thead th {\n",
       "        text-align: right;\n",
       "    }\n",
       "</style>\n",
       "<table border=\"1\" class=\"dataframe\">\n",
       "  <thead>\n",
       "    <tr style=\"text-align: right;\">\n",
       "      <th></th>\n",
       "      <th>Work Year</th>\n",
       "      <th>min</th>\n",
       "      <th>max</th>\n",
       "      <th>median</th>\n",
       "      <th>mean</th>\n",
       "    </tr>\n",
       "    <tr>\n",
       "      <th>work_year</th>\n",
       "      <th></th>\n",
       "      <th></th>\n",
       "      <th></th>\n",
       "      <th></th>\n",
       "      <th></th>\n",
       "    </tr>\n",
       "  </thead>\n",
       "  <tbody>\n",
       "    <tr>\n",
       "      <th>2020</th>\n",
       "      <td>2020</td>\n",
       "      <td>5707</td>\n",
       "      <td>250000</td>\n",
       "      <td>47582.0</td>\n",
       "      <td>59256.600000</td>\n",
       "    </tr>\n",
       "    <tr>\n",
       "      <th>2021</th>\n",
       "      <td>2021</td>\n",
       "      <td>5409</td>\n",
       "      <td>225000</td>\n",
       "      <td>59102.0</td>\n",
       "      <td>58755.060000</td>\n",
       "    </tr>\n",
       "    <tr>\n",
       "      <th>2022</th>\n",
       "      <td>2022</td>\n",
       "      <td>6270</td>\n",
       "      <td>300000</td>\n",
       "      <td>61566.0</td>\n",
       "      <td>77924.678261</td>\n",
       "    </tr>\n",
       "    <tr>\n",
       "      <th>2023</th>\n",
       "      <td>2023</td>\n",
       "      <td>7000</td>\n",
       "      <td>220000</td>\n",
       "      <td>85000.0</td>\n",
       "      <td>95946.401709</td>\n",
       "    </tr>\n",
       "  </tbody>\n",
       "</table>\n",
       "</div>"
      ],
      "text/plain": [
       "          Work Year   min     max   median          mean\n",
       "work_year                                               \n",
       "2020           2020  5707  250000  47582.0  59256.600000\n",
       "2021           2021  5409  225000  59102.0  58755.060000\n",
       "2022           2022  6270  300000  61566.0  77924.678261\n",
       "2023           2023  7000  220000  85000.0  95946.401709"
      ]
     },
     "execution_count": 112,
     "metadata": {},
     "output_type": "execute_result"
    }
   ],
   "source": [
    "salary_change"
   ]
  },
  {
   "cell_type": "code",
   "execution_count": 208,
   "id": "51706ad7-d384-4c12-9e3d-9d321bc011c4",
   "metadata": {},
   "outputs": [
    {
     "data": {
      "text/html": [
       "\n",
       "<div id=\"altair-viz-f2b238b053594375a8aa84e6a20f6938\"></div>\n",
       "<script type=\"text/javascript\">\n",
       "  var VEGA_DEBUG = (typeof VEGA_DEBUG == \"undefined\") ? {} : VEGA_DEBUG;\n",
       "  (function(spec, embedOpt){\n",
       "    let outputDiv = document.currentScript.previousElementSibling;\n",
       "    if (outputDiv.id !== \"altair-viz-f2b238b053594375a8aa84e6a20f6938\") {\n",
       "      outputDiv = document.getElementById(\"altair-viz-f2b238b053594375a8aa84e6a20f6938\");\n",
       "    }\n",
       "    const paths = {\n",
       "      \"vega\": \"https://cdn.jsdelivr.net/npm//vega@5?noext\",\n",
       "      \"vega-lib\": \"https://cdn.jsdelivr.net/npm//vega-lib?noext\",\n",
       "      \"vega-lite\": \"https://cdn.jsdelivr.net/npm//vega-lite@4.17.0?noext\",\n",
       "      \"vega-embed\": \"https://cdn.jsdelivr.net/npm//vega-embed@6?noext\",\n",
       "    };\n",
       "\n",
       "    function maybeLoadScript(lib, version) {\n",
       "      var key = `${lib.replace(\"-\", \"\")}_version`;\n",
       "      return (VEGA_DEBUG[key] == version) ?\n",
       "        Promise.resolve(paths[lib]) :\n",
       "        new Promise(function(resolve, reject) {\n",
       "          var s = document.createElement('script');\n",
       "          document.getElementsByTagName(\"head\")[0].appendChild(s);\n",
       "          s.async = true;\n",
       "          s.onload = () => {\n",
       "            VEGA_DEBUG[key] = version;\n",
       "            return resolve(paths[lib]);\n",
       "          };\n",
       "          s.onerror = () => reject(`Error loading script: ${paths[lib]}`);\n",
       "          s.src = paths[lib];\n",
       "        });\n",
       "    }\n",
       "\n",
       "    function showError(err) {\n",
       "      outputDiv.innerHTML = `<div class=\"error\" style=\"color:red;\">${err}</div>`;\n",
       "      throw err;\n",
       "    }\n",
       "\n",
       "    function displayChart(vegaEmbed) {\n",
       "      vegaEmbed(outputDiv, spec, embedOpt)\n",
       "        .catch(err => showError(`Javascript Error: ${err.message}<br>This usually means there's a typo in your chart specification. See the javascript console for the full traceback.`));\n",
       "    }\n",
       "\n",
       "    if(typeof define === \"function\" && define.amd) {\n",
       "      requirejs.config({paths});\n",
       "      require([\"vega-embed\"], displayChart, err => showError(`Error loading script: ${err.message}`));\n",
       "    } else {\n",
       "      maybeLoadScript(\"vega\", \"5\")\n",
       "        .then(() => maybeLoadScript(\"vega-lite\", \"4.17.0\"))\n",
       "        .then(() => maybeLoadScript(\"vega-embed\", \"6\"))\n",
       "        .catch(showError)\n",
       "        .then(() => displayChart(vegaEmbed));\n",
       "    }\n",
       "  })({\"config\": {\"view\": {\"continuousWidth\": 400, \"continuousHeight\": 300}}, \"layer\": [{\"layer\": [{\"mark\": {\"type\": \"line\", \"color\": \"blue\"}, \"encoding\": {\"tooltip\": {\"field\": \"median\", \"type\": \"quantitative\"}, \"x\": {\"axis\": {\"labelAngle\": 0}, \"field\": \"Work Year\", \"sort\": \"y\", \"title\": \"Work Year\", \"type\": \"nominal\"}, \"y\": {\"field\": \"median\", \"title\": \"Annual Pay(USD)\", \"type\": \"quantitative\"}}, \"height\": 300, \"title\": \"Change in annual salary in data science (2020-2023)\", \"width\": 600}, {\"mark\": {\"type\": \"text\", \"color\": \"blue\", \"dy\": 20}, \"encoding\": {\"text\": {\"field\": \"median\", \"type\": \"quantitative\"}, \"tooltip\": {\"field\": \"median\", \"type\": \"quantitative\"}, \"x\": {\"axis\": {\"labelAngle\": 0}, \"field\": \"Work Year\", \"sort\": \"y\", \"title\": \"Work Year\", \"type\": \"nominal\"}, \"y\": {\"field\": \"median\", \"title\": \"Annual Pay(USD)\", \"type\": \"quantitative\"}}, \"height\": 300, \"title\": \"Change in annual salary in data science (2020-2023)\", \"width\": 600}]}, {\"layer\": [{\"mark\": {\"type\": \"line\", \"color\": \"red\"}, \"encoding\": {\"tooltip\": {\"field\": \"mean\", \"type\": \"quantitative\"}, \"x\": {\"field\": \"Work Year\", \"type\": \"nominal\"}, \"y\": {\"field\": \"mean\", \"type\": \"quantitative\"}}, \"height\": 300, \"width\": 600}, {\"mark\": {\"type\": \"text\", \"color\": \"red\", \"dy\": -20}, \"encoding\": {\"text\": {\"field\": \"mean\", \"type\": \"quantitative\"}, \"tooltip\": {\"field\": \"mean\", \"type\": \"quantitative\"}, \"x\": {\"field\": \"Work Year\", \"type\": \"nominal\"}, \"y\": {\"field\": \"mean\", \"type\": \"quantitative\"}}, \"height\": 300, \"width\": 600}]}], \"data\": {\"name\": \"data-eb16c827d0991adc477e209b4f833587\"}, \"$schema\": \"https://vega.github.io/schema/vega-lite/v4.17.0.json\", \"datasets\": {\"data-eb16c827d0991adc477e209b4f833587\": [{\"Work Year\": \"2020\", \"min\": 5707, \"max\": 250000, \"median\": 47582.0, \"mean\": 59256.6}, {\"Work Year\": \"2021\", \"min\": 5409, \"max\": 225000, \"median\": 59102.0, \"mean\": 58755.06}, {\"Work Year\": \"2022\", \"min\": 6270, \"max\": 300000, \"median\": 61566.0, \"mean\": 77924.67826086956}, {\"Work Year\": \"2023\", \"min\": 7000, \"max\": 220000, \"median\": 85000.0, \"mean\": 95946.4017094017}]}}, {\"mode\": \"vega-lite\"});\n",
       "</script>"
      ],
      "text/plain": [
       "alt.LayerChart(...)"
      ]
     },
     "execution_count": 208,
     "metadata": {},
     "output_type": "execute_result"
    }
   ],
   "source": [
    "# Create a line chart for the 2020-2023 salary_change dataframe\n",
    "# See the median and mean values\n",
    "\n",
    "#Line chart for median\n",
    "change_median = alt.Chart(salary_change, title = 'Change in annual salary in data science (2020-2023)').mark_line(color = 'blue').encode(\n",
    "    x = alt.X('Work Year:N', title = 'Work Year', sort = 'y', axis=alt.Axis(labelAngle=0)),\n",
    "    y = alt.Y('median:Q', title = 'Annual Pay(USD)'),\n",
    "    tooltip = 'median'\n",
    ").properties(width = 600, height = 300)\n",
    "\n",
    "text_median = change_median.mark_text(\n",
    "    color = 'blue',\n",
    "    dy = 20\n",
    ").encode(\n",
    "    text = 'median'\n",
    ")\n",
    "\n",
    "\n",
    "#Line chart for mean\n",
    "change_mean = alt.Chart(salary_change).mark_line(color = 'red').encode(\n",
    "    x = alt.X('Work Year:N'),\n",
    "    y = alt.Y('mean:Q'),\n",
    "    tooltip = 'mean',\n",
    ").properties(width = 600, height = 300)\n",
    "\n",
    "\n",
    "text_mean = change_mean.mark_text(\n",
    "    color = 'red',\n",
    "    dy = -20\n",
    ").encode(\n",
    "    text = 'mean'\n",
    ")\n",
    "\n",
    "\n",
    "#Combine two charts in one\n",
    "chart_median = change_median + text_median\n",
    "chart_mean = change_mean + text_mean\n",
    "\n",
    "basechart3 = alt.layer(chart_median, chart_mean)\n",
    "\n",
    "basechart3"
   ]
  },
  {
   "cell_type": "code",
   "execution_count": null,
   "id": "530dd8da-cc0b-424b-b060-a63d35ca6627",
   "metadata": {},
   "outputs": [],
   "source": [
    "# Get the percentage in chage in mean and median"
   ]
  },
  {
   "cell_type": "markdown",
   "id": "642f617d-5ef0-4407-9178-a76d693e4663",
   "metadata": {},
   "source": [
    "### 4. Is there a difference in salary among remote/hybrid/on-site full-time positions in the US?"
   ]
  },
  {
   "cell_type": "code",
   "execution_count": 141,
   "id": "c8f7e0fc-b3bb-4072-bb57-b180640d1fda",
   "metadata": {},
   "outputs": [],
   "source": [
    "fulltime_US = full_time[full_time['company_location'] == 'US']"
   ]
  },
  {
   "cell_type": "code",
   "execution_count": 161,
   "id": "aee2290b-6b87-4398-bf74-367cd869beb6",
   "metadata": {},
   "outputs": [
    {
     "data": {
      "text/html": [
       "<div>\n",
       "<style scoped>\n",
       "    .dataframe tbody tr th:only-of-type {\n",
       "        vertical-align: middle;\n",
       "    }\n",
       "\n",
       "    .dataframe tbody tr th {\n",
       "        vertical-align: top;\n",
       "    }\n",
       "\n",
       "    .dataframe thead th {\n",
       "        text-align: right;\n",
       "    }\n",
       "</style>\n",
       "<table border=\"1\" class=\"dataframe\">\n",
       "  <thead>\n",
       "    <tr style=\"text-align: right;\">\n",
       "      <th></th>\n",
       "      <th>remote_ratio</th>\n",
       "      <th>Count</th>\n",
       "    </tr>\n",
       "  </thead>\n",
       "  <tbody>\n",
       "    <tr>\n",
       "      <th>0</th>\n",
       "      <td>0</td>\n",
       "      <td>1668</td>\n",
       "    </tr>\n",
       "    <tr>\n",
       "      <th>1</th>\n",
       "      <td>50</td>\n",
       "      <td>39</td>\n",
       "    </tr>\n",
       "    <tr>\n",
       "      <th>2</th>\n",
       "      <td>100</td>\n",
       "      <td>1315</td>\n",
       "    </tr>\n",
       "  </tbody>\n",
       "</table>\n",
       "</div>"
      ],
      "text/plain": [
       "   remote_ratio  Count\n",
       "0             0   1668\n",
       "1            50     39\n",
       "2           100   1315"
      ]
     },
     "execution_count": 161,
     "metadata": {},
     "output_type": "execute_result"
    }
   ],
   "source": [
    "FTUS_count = fulltime_US.groupby('remote_ratio')['salary_in_usd'].count().reset_index()\n",
    "FTUS_count.rename(columns = {'salary_in_usd': 'Count'}, inplace=True)\n",
    "FTUS_count"
   ]
  },
  {
   "cell_type": "code",
   "execution_count": 181,
   "id": "de71c0e1-6e31-4473-b38c-15976136978c",
   "metadata": {},
   "outputs": [],
   "source": [
    "base = alt.Chart(FTUS_count).mark_arc().encode(\n",
    "    theta=alt.Theta(field=\"Count\", type=\"quantitative\"),\n",
    "    color=alt.Color(field=\"remote_ratio\", type=\"nominal\"),\n",
    ")"
   ]
  },
  {
   "cell_type": "code",
   "execution_count": 194,
   "id": "51efaac0-91a9-4ab5-9c44-7dc43aba9b64",
   "metadata": {},
   "outputs": [
    {
     "data": {
      "text/html": [
       "\n",
       "<div id=\"altair-viz-6f9b4cfe8a1142ddb69432a2d6d5c761\"></div>\n",
       "<script type=\"text/javascript\">\n",
       "  var VEGA_DEBUG = (typeof VEGA_DEBUG == \"undefined\") ? {} : VEGA_DEBUG;\n",
       "  (function(spec, embedOpt){\n",
       "    let outputDiv = document.currentScript.previousElementSibling;\n",
       "    if (outputDiv.id !== \"altair-viz-6f9b4cfe8a1142ddb69432a2d6d5c761\") {\n",
       "      outputDiv = document.getElementById(\"altair-viz-6f9b4cfe8a1142ddb69432a2d6d5c761\");\n",
       "    }\n",
       "    const paths = {\n",
       "      \"vega\": \"https://cdn.jsdelivr.net/npm//vega@5?noext\",\n",
       "      \"vega-lib\": \"https://cdn.jsdelivr.net/npm//vega-lib?noext\",\n",
       "      \"vega-lite\": \"https://cdn.jsdelivr.net/npm//vega-lite@4.17.0?noext\",\n",
       "      \"vega-embed\": \"https://cdn.jsdelivr.net/npm//vega-embed@6?noext\",\n",
       "    };\n",
       "\n",
       "    function maybeLoadScript(lib, version) {\n",
       "      var key = `${lib.replace(\"-\", \"\")}_version`;\n",
       "      return (VEGA_DEBUG[key] == version) ?\n",
       "        Promise.resolve(paths[lib]) :\n",
       "        new Promise(function(resolve, reject) {\n",
       "          var s = document.createElement('script');\n",
       "          document.getElementsByTagName(\"head\")[0].appendChild(s);\n",
       "          s.async = true;\n",
       "          s.onload = () => {\n",
       "            VEGA_DEBUG[key] = version;\n",
       "            return resolve(paths[lib]);\n",
       "          };\n",
       "          s.onerror = () => reject(`Error loading script: ${paths[lib]}`);\n",
       "          s.src = paths[lib];\n",
       "        });\n",
       "    }\n",
       "\n",
       "    function showError(err) {\n",
       "      outputDiv.innerHTML = `<div class=\"error\" style=\"color:red;\">${err}</div>`;\n",
       "      throw err;\n",
       "    }\n",
       "\n",
       "    function displayChart(vegaEmbed) {\n",
       "      vegaEmbed(outputDiv, spec, embedOpt)\n",
       "        .catch(err => showError(`Javascript Error: ${err.message}<br>This usually means there's a typo in your chart specification. See the javascript console for the full traceback.`));\n",
       "    }\n",
       "\n",
       "    if(typeof define === \"function\" && define.amd) {\n",
       "      requirejs.config({paths});\n",
       "      require([\"vega-embed\"], displayChart, err => showError(`Error loading script: ${err.message}`));\n",
       "    } else {\n",
       "      maybeLoadScript(\"vega\", \"5\")\n",
       "        .then(() => maybeLoadScript(\"vega-lite\", \"4.17.0\"))\n",
       "        .then(() => maybeLoadScript(\"vega-embed\", \"6\"))\n",
       "        .catch(showError)\n",
       "        .then(() => displayChart(vegaEmbed));\n",
       "    }\n",
       "  })({\"config\": {\"view\": {\"continuousWidth\": 400, \"continuousHeight\": 300}}, \"layer\": [{\"mark\": {\"type\": \"arc\", \"outerRadius\": 120}, \"encoding\": {\"color\": {\"field\": \"remote_ratio\", \"type\": \"nominal\"}, \"theta\": {\"field\": \"Count\", \"type\": \"quantitative\"}}}, {\"mark\": {\"type\": \"text\", \"radius\": 140, \"size\": 20}, \"encoding\": {\"color\": {\"field\": \"remote_ratio\", \"type\": \"nominal\"}, \"text\": {\"field\": \"Count\", \"type\": \"quantitative\"}, \"theta\": {\"field\": \"Count\", \"type\": \"quantitative\"}}}], \"data\": {\"name\": \"data-526e2d930cae12b12938449e088c7f91\"}, \"$schema\": \"https://vega.github.io/schema/vega-lite/v4.17.0.json\", \"datasets\": {\"data-526e2d930cae12b12938449e088c7f91\": [{\"remote_ratio\": 0, \"Count\": 1668}, {\"remote_ratio\": 50, \"Count\": 39}, {\"remote_ratio\": 100, \"Count\": 1315}]}}, {\"mode\": \"vega-lite\"});\n",
       "</script>"
      ],
      "text/plain": [
       "alt.LayerChart(...)"
      ]
     },
     "execution_count": 194,
     "metadata": {},
     "output_type": "execute_result"
    }
   ],
   "source": [
    "pie = base.mark_arc(outerRadius=120)\n",
    "text = base.mark_text(radius=140, size=20).encode(text=\"Count\")\n",
    "pie + text"
   ]
  },
  {
   "cell_type": "code",
   "execution_count": 148,
   "id": "71f46745-20a4-418d-9162-859f9c017dac",
   "metadata": {},
   "outputs": [
    {
     "data": {
      "text/plain": [
       "remote_ratio\n",
       "0      145000.0\n",
       "50     120000.0\n",
       "100    145000.0\n",
       "Name: salary_in_usd, dtype: float64"
      ]
     },
     "execution_count": 148,
     "metadata": {},
     "output_type": "execute_result"
    }
   ],
   "source": [
    "FTUS_median = fulltime_US.groupby('remote_ratio')['salary_in_usd'].median()\n",
    "FTUS_median"
   ]
  },
  {
   "cell_type": "code",
   "execution_count": 150,
   "id": "89fce820-839a-4f56-8096-bded32fde881",
   "metadata": {},
   "outputs": [
    {
     "data": {
      "text/plain": [
       "remote_ratio\n",
       "0      153231.653477\n",
       "50     134214.179487\n",
       "100    151457.580228\n",
       "Name: salary_in_usd, dtype: float64"
      ]
     },
     "execution_count": 150,
     "metadata": {},
     "output_type": "execute_result"
    }
   ],
   "source": [
    "FTUS_mean = fulltime_US.groupby('remote_ratio')['salary_in_usd'].mean()\n",
    "FTUS_mean"
   ]
  },
  {
   "cell_type": "markdown",
   "id": "b6b7b67b-6bf1-4ecb-a71c-bde797bc73a0",
   "metadata": {},
   "source": [
    "### 5. What is the relation between company size and annual salary in full-time & entry-level roles?"
   ]
  },
  {
   "cell_type": "code",
   "execution_count": 199,
   "id": "541d2f81-a959-45ac-91e1-c4c9caa9bf9f",
   "metadata": {},
   "outputs": [
    {
     "data": {
      "text/html": [
       "<div>\n",
       "<style scoped>\n",
       "    .dataframe tbody tr th:only-of-type {\n",
       "        vertical-align: middle;\n",
       "    }\n",
       "\n",
       "    .dataframe tbody tr th {\n",
       "        vertical-align: top;\n",
       "    }\n",
       "\n",
       "    .dataframe thead th {\n",
       "        text-align: right;\n",
       "    }\n",
       "</style>\n",
       "<table border=\"1\" class=\"dataframe\">\n",
       "  <thead>\n",
       "    <tr style=\"text-align: right;\">\n",
       "      <th></th>\n",
       "      <th>company_size</th>\n",
       "      <th>salary_in_usd</th>\n",
       "    </tr>\n",
       "  </thead>\n",
       "  <tbody>\n",
       "    <tr>\n",
       "      <th>0</th>\n",
       "      <td>Large</td>\n",
       "      <td>59888.0</td>\n",
       "    </tr>\n",
       "    <tr>\n",
       "      <th>1</th>\n",
       "      <td>Medium</td>\n",
       "      <td>80000.0</td>\n",
       "    </tr>\n",
       "    <tr>\n",
       "      <th>2</th>\n",
       "      <td>Small</td>\n",
       "      <td>55205.0</td>\n",
       "    </tr>\n",
       "  </tbody>\n",
       "</table>\n",
       "</div>"
      ],
      "text/plain": [
       "  company_size  salary_in_usd\n",
       "0        Large        59888.0\n",
       "1       Medium        80000.0\n",
       "2        Small        55205.0"
      ]
     },
     "execution_count": 199,
     "metadata": {},
     "output_type": "execute_result"
    }
   ],
   "source": [
    "FT_size = entry_level.groupby('company_size')['salary_in_usd'].median().reset_index()\n",
    "FT_size['company_size'] = ['Large','Medium','Small']\n",
    "FT_size"
   ]
  },
  {
   "cell_type": "code",
   "execution_count": 206,
   "id": "590be802-9c1f-4708-a91c-268059a136bc",
   "metadata": {},
   "outputs": [
    {
     "data": {
      "text/html": [
       "\n",
       "<div id=\"altair-viz-92d4ec713a714f4294e92d9e7e8f2615\"></div>\n",
       "<script type=\"text/javascript\">\n",
       "  var VEGA_DEBUG = (typeof VEGA_DEBUG == \"undefined\") ? {} : VEGA_DEBUG;\n",
       "  (function(spec, embedOpt){\n",
       "    let outputDiv = document.currentScript.previousElementSibling;\n",
       "    if (outputDiv.id !== \"altair-viz-92d4ec713a714f4294e92d9e7e8f2615\") {\n",
       "      outputDiv = document.getElementById(\"altair-viz-92d4ec713a714f4294e92d9e7e8f2615\");\n",
       "    }\n",
       "    const paths = {\n",
       "      \"vega\": \"https://cdn.jsdelivr.net/npm//vega@5?noext\",\n",
       "      \"vega-lib\": \"https://cdn.jsdelivr.net/npm//vega-lib?noext\",\n",
       "      \"vega-lite\": \"https://cdn.jsdelivr.net/npm//vega-lite@4.17.0?noext\",\n",
       "      \"vega-embed\": \"https://cdn.jsdelivr.net/npm//vega-embed@6?noext\",\n",
       "    };\n",
       "\n",
       "    function maybeLoadScript(lib, version) {\n",
       "      var key = `${lib.replace(\"-\", \"\")}_version`;\n",
       "      return (VEGA_DEBUG[key] == version) ?\n",
       "        Promise.resolve(paths[lib]) :\n",
       "        new Promise(function(resolve, reject) {\n",
       "          var s = document.createElement('script');\n",
       "          document.getElementsByTagName(\"head\")[0].appendChild(s);\n",
       "          s.async = true;\n",
       "          s.onload = () => {\n",
       "            VEGA_DEBUG[key] = version;\n",
       "            return resolve(paths[lib]);\n",
       "          };\n",
       "          s.onerror = () => reject(`Error loading script: ${paths[lib]}`);\n",
       "          s.src = paths[lib];\n",
       "        });\n",
       "    }\n",
       "\n",
       "    function showError(err) {\n",
       "      outputDiv.innerHTML = `<div class=\"error\" style=\"color:red;\">${err}</div>`;\n",
       "      throw err;\n",
       "    }\n",
       "\n",
       "    function displayChart(vegaEmbed) {\n",
       "      vegaEmbed(outputDiv, spec, embedOpt)\n",
       "        .catch(err => showError(`Javascript Error: ${err.message}<br>This usually means there's a typo in your chart specification. See the javascript console for the full traceback.`));\n",
       "    }\n",
       "\n",
       "    if(typeof define === \"function\" && define.amd) {\n",
       "      requirejs.config({paths});\n",
       "      require([\"vega-embed\"], displayChart, err => showError(`Error loading script: ${err.message}`));\n",
       "    } else {\n",
       "      maybeLoadScript(\"vega\", \"5\")\n",
       "        .then(() => maybeLoadScript(\"vega-lite\", \"4.17.0\"))\n",
       "        .then(() => maybeLoadScript(\"vega-embed\", \"6\"))\n",
       "        .catch(showError)\n",
       "        .then(() => displayChart(vegaEmbed));\n",
       "    }\n",
       "  })({\"config\": {\"view\": {\"continuousWidth\": 400, \"continuousHeight\": 300}}, \"layer\": [{\"mark\": {\"type\": \"bar\", \"color\": \"grey\"}, \"encoding\": {\"tooltip\": {\"field\": \"salary_in_usd\", \"type\": \"quantitative\"}, \"x\": {\"axis\": {\"labelAngle\": 0}, \"field\": \"company_size\", \"title\": \"Company Size\", \"type\": \"nominal\"}, \"y\": {\"field\": \"salary_in_usd\", \"title\": \"Annual Pay(USD)\", \"type\": \"quantitative\"}}, \"height\": 300, \"title\": \"Company Size and Annual Salary\", \"width\": 600}, {\"mark\": {\"type\": \"text\", \"color\": \"black\", \"dy\": 20}, \"encoding\": {\"text\": {\"field\": \"salary_in_usd\", \"type\": \"quantitative\"}, \"tooltip\": {\"field\": \"salary_in_usd\", \"type\": \"quantitative\"}, \"x\": {\"axis\": {\"labelAngle\": 0}, \"field\": \"company_size\", \"title\": \"Company Size\", \"type\": \"nominal\"}, \"y\": {\"field\": \"salary_in_usd\", \"title\": \"Annual Pay(USD)\", \"type\": \"quantitative\"}}, \"height\": 300, \"title\": \"Company Size and Annual Salary\", \"width\": 600}], \"data\": {\"name\": \"data-02365e93fedff9823024693c0d57aa3b\"}, \"$schema\": \"https://vega.github.io/schema/vega-lite/v4.17.0.json\", \"datasets\": {\"data-02365e93fedff9823024693c0d57aa3b\": [{\"company_size\": \"Large\", \"salary_in_usd\": 59888.0}, {\"company_size\": \"Medium\", \"salary_in_usd\": 80000.0}, {\"company_size\": \"Small\", \"salary_in_usd\": 55205.0}]}}, {\"mode\": \"vega-lite\"});\n",
       "</script>"
      ],
      "text/plain": [
       "alt.LayerChart(...)"
      ]
     },
     "execution_count": 206,
     "metadata": {},
     "output_type": "execute_result"
    }
   ],
   "source": [
    "basechart4 = alt.Chart(FT_size, title = 'Company Size and Annual Salary').mark_bar(color = 'grey').encode(\n",
    "    x = alt.X('company_size:N', title = 'Company Size', axis=alt.Axis(labelAngle=0)),\n",
    "    y = alt.Y('salary_in_usd:Q', title = 'Annual Pay(USD)'),\n",
    "    tooltip = 'salary_in_usd'\n",
    ").properties(width = 600, height = 300)\n",
    "\n",
    "text4 = basechart4.mark_text(\n",
    "    color = 'black',\n",
    "    dy = 20\n",
    ").encode(\n",
    "    text = 'salary_in_usd'\n",
    ")\n",
    "\n",
    "basechart4 + text4\n"
   ]
  },
  {
   "cell_type": "code",
   "execution_count": null,
   "id": "816c193e-cd35-4dce-b089-499996ee182c",
   "metadata": {},
   "outputs": [],
   "source": []
  }
 ],
 "metadata": {
  "kernelspec": {
   "display_name": "Python 3 (ipykernel)",
   "language": "python",
   "name": "python3"
  },
  "language_info": {
   "codemirror_mode": {
    "name": "ipython",
    "version": 3
   },
   "file_extension": ".py",
   "mimetype": "text/x-python",
   "name": "python",
   "nbconvert_exporter": "python",
   "pygments_lexer": "ipython3",
   "version": "3.8.15"
  }
 },
 "nbformat": 4,
 "nbformat_minor": 5
}
